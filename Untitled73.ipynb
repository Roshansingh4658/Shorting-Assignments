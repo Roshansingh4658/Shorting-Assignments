{
 "cells": [
  {
   "cell_type": "code",
   "execution_count": 1,
   "id": "2b052dc6-0508-4697-ac77-46e47f709e36",
   "metadata": {},
   "outputs": [
    {
     "name": "stdout",
     "output_type": "stream",
     "text": [
      "Element appearing maximum number of times: 3\n"
     ]
    }
   ],
   "source": [
    "def max_frequency_element(arr):\n",
    "    frequency = {}\n",
    "    \n",
    "    # Count frequency of each element in the array\n",
    "    for num in arr:\n",
    "        if num in frequency:\n",
    "            frequency[num] += 1\n",
    "        else:\n",
    "            frequency[num] = 1\n",
    "    \n",
    "    # Find the element with maximum frequency\n",
    "    max_frequency = 0\n",
    "    max_element = None\n",
    "    for key, value in frequency.items():\n",
    "        if value > max_frequency:\n",
    "            max_frequency = value\n",
    "            max_element = key\n",
    "    \n",
    "    return max_element\n",
    "\n",
    "# Example usage:\n",
    "arr = [1, 2, 3, 4, 2, 2, 3, 3, 3]\n",
    "print(\"Element appearing maximum number of times:\", max_frequency_element(arr))\n"
   ]
  },
  {
   "cell_type": "code",
   "execution_count": 2,
   "id": "5d090766-4519-47bb-9c04-b12bc91bba32",
   "metadata": {},
   "outputs": [
    {
     "name": "stdout",
     "output_type": "stream",
     "text": [
      "Missing number: 5\n"
     ]
    }
   ],
   "source": [
    "def find_missing_number(arr):\n",
    "    n = len(arr) + 1\n",
    "    total_sum = n * (n + 1) // 2  # Sum of first n natural numbers\n",
    "    \n",
    "    list_sum = sum(arr)\n",
    "    \n",
    "    missing_number = total_sum - list_sum\n",
    "    return missing_number\n",
    "\n",
    "# Example usage:\n",
    "arr = [1, 2, 4, 6, 3, 7, 8]\n",
    "print(\"Missing number:\", find_missing_number(arr))\n"
   ]
  },
  {
   "cell_type": "code",
   "execution_count": 3,
   "id": "79de89cf-d357-4769-98b4-50912e94e943",
   "metadata": {},
   "outputs": [
    {
     "name": "stdout",
     "output_type": "stream",
     "text": [
      "Number occurring odd number of times: 3\n"
     ]
    }
   ],
   "source": [
    "def find_odd_occurrence(arr):\n",
    "    result = 0\n",
    "    \n",
    "    # XOR all elements in the array\n",
    "    for num in arr:\n",
    "        result ^= num\n",
    "    \n",
    "    return result\n",
    "\n",
    "# Example usage:\n",
    "arr = [1, 2, 3, 2, 3, 1, 3]\n",
    "print(\"Number occurring odd number of times:\", find_odd_occurrence(arr))\n"
   ]
  },
  {
   "cell_type": "code",
   "execution_count": 4,
   "id": "30f152ca-bd2b-49b2-b2d9-9c13d58017d3",
   "metadata": {},
   "outputs": [
    {
     "name": "stdout",
     "output_type": "stream",
     "text": [
      "Pair with sum 7 found: (4, 3)\n"
     ]
    }
   ],
   "source": [
    "def find_pair_with_sum(arr, k):\n",
    "    complement_map = {}\n",
    "    \n",
    "    for num in arr:\n",
    "        complement = k - num\n",
    "        if complement in complement_map:\n",
    "            return (num, complement)\n",
    "        complement_map[num] = True\n",
    "    \n",
    "    return None\n",
    "\n",
    "# Example usage:\n",
    "arr = [1, 2, 3, 4, 5]\n",
    "k = 7\n",
    "pair = find_pair_with_sum(arr, k)\n",
    "if pair:\n",
    "    print(f\"Pair with sum {k} found:\", pair)\n",
    "else:\n",
    "    print(\"No pair found with sum\", k)\n"
   ]
  },
  {
   "cell_type": "code",
   "execution_count": 5,
   "id": "51a4ef3f-929c-45a3-bff1-426d24bfb4bf",
   "metadata": {},
   "outputs": [
    {
     "name": "stdout",
     "output_type": "stream",
     "text": [
      "Pair with sum closest to 0: (-80, 85)\n"
     ]
    }
   ],
   "source": [
    "def closest_to_zero(arr):\n",
    "    arr.sort()\n",
    "    left = 0\n",
    "    right = len(arr) - 1\n",
    "    min_sum = float('inf')\n",
    "    closest_pair = None\n",
    "\n",
    "    while left < right:\n",
    "        current_sum = arr[left] + arr[right]\n",
    "        if abs(current_sum) < abs(min_sum):\n",
    "            min_sum = current_sum\n",
    "            closest_pair = (arr[left], arr[right])\n",
    "        \n",
    "        if current_sum < 0:\n",
    "            left += 1\n",
    "        elif current_sum > 0:\n",
    "            right -= 1\n",
    "        else:\n",
    "            # If sum is 0, we have found the closest pair\n",
    "            return closest_pair\n",
    "\n",
    "    return closest_pair\n",
    "\n",
    "# Example usage:\n",
    "arr = [1, 60, -10, 70, -80, 85]\n",
    "pair = closest_to_zero(arr)\n",
    "print(\"Pair with sum closest to 0:\", pair)\n"
   ]
  },
  {
   "cell_type": "code",
   "execution_count": 6,
   "id": "e24eb65c-bff4-4b88-b1ee-598231a01b63",
   "metadata": {},
   "outputs": [
    {
     "name": "stdout",
     "output_type": "stream",
     "text": [
      "Triplet with sum 22 found: (4, 8, 10)\n"
     ]
    }
   ],
   "source": [
    "def find_triplet_with_sum(arr, target):\n",
    "    arr.sort()\n",
    "    n = len(arr)\n",
    "\n",
    "    for i in range(n - 2):\n",
    "        left = i + 1\n",
    "        right = n - 1\n",
    "\n",
    "        while left < right:\n",
    "            current_sum = arr[i] + arr[left] + arr[right]\n",
    "            if current_sum == target:\n",
    "                return (arr[i], arr[left], arr[right])\n",
    "            elif current_sum < target:\n",
    "                left += 1\n",
    "            else:\n",
    "                right -= 1\n",
    "    \n",
    "    return None\n",
    "\n",
    "# Example usage:\n",
    "arr = [1, 4, 45, 6, 10, 8]\n",
    "target = 22\n",
    "triplet = find_triplet_with_sum(arr, target)\n",
    "if triplet:\n",
    "    print(\"Triplet with sum\", target, \"found:\", triplet)\n",
    "else:\n",
    "    print(\"No triplet found with sum\", target)\n"
   ]
  },
  {
   "cell_type": "code",
   "execution_count": 7,
   "id": "1c07e260-a718-4b77-bc44-ef6ff2a0f6ea",
   "metadata": {},
   "outputs": [
    {
     "name": "stdout",
     "output_type": "stream",
     "text": [
      "Triplet found: (3, 4, 5)\n"
     ]
    }
   ],
   "source": [
    "def find_triplet(arr):\n",
    "    arr.sort()\n",
    "    n = len(arr)\n",
    "\n",
    "    for k_index in range(n - 1, 1, -1):\n",
    "        k = arr[k_index]\n",
    "        left = 0\n",
    "        right = k_index - 1\n",
    "\n",
    "        while left < right:\n",
    "            square_sum = arr[left] * arr[left] + arr[right] * arr[right]\n",
    "            if square_sum == k * k:\n",
    "                return (arr[left], arr[right], k)\n",
    "            elif square_sum < k * k:\n",
    "                left += 1\n",
    "            else:\n",
    "                right -= 1\n",
    "    \n",
    "    return None\n",
    "\n",
    "# Example usage:\n",
    "arr = [3, 1, 4, 6, 5]\n",
    "triplet = find_triplet(arr)\n",
    "if triplet:\n",
    "    print(\"Triplet found:\", triplet)\n",
    "else:\n",
    "    print(\"No such triplet found.\")\n"
   ]
  },
  {
   "cell_type": "code",
   "execution_count": 8,
   "id": "9abcf000-d864-4317-83b9-d40e821b24d9",
   "metadata": {},
   "outputs": [
    {
     "name": "stdout",
     "output_type": "stream",
     "text": [
      "Majority element: 2\n"
     ]
    }
   ],
   "source": [
    "def find_majority_element(arr):\n",
    "    candidate = None\n",
    "    count = 0\n",
    "    \n",
    "    # Find potential candidate\n",
    "    for num in arr:\n",
    "        if count == 0:\n",
    "            candidate = num\n",
    "        if num == candidate:\n",
    "            count += 1\n",
    "        else:\n",
    "            count -= 1\n",
    "    \n",
    "    # Check if the candidate is a majority\n",
    "    count = 0\n",
    "    for num in arr:\n",
    "        if num == candidate:\n",
    "            count += 1\n",
    "    \n",
    "    if count > len(arr) // 2:\n",
    "        return candidate\n",
    "    else:\n",
    "        return None\n",
    "\n",
    "# Example usage:\n",
    "arr = [2, 2, 3, 2, 3, 2, 2]\n",
    "majority = find_majority_element(arr)\n",
    "if majority:\n",
    "    print(\"Majority element:\", majority)\n",
    "else:\n",
    "    print(\"No majority element.\")\n"
   ]
  },
  {
   "cell_type": "code",
   "execution_count": 9,
   "id": "fd771a95-d186-45ec-984d-bafd1bca1b7c",
   "metadata": {},
   "outputs": [
    {
     "name": "stdout",
     "output_type": "stream",
     "text": [
      "Row with maximum number of zeros: 1\n"
     ]
    }
   ],
   "source": [
    "def find_max_zeros_row(matrix):\n",
    "    max_zeros_row_index = 0\n",
    "    max_zeros_count = 0\n",
    "    \n",
    "    # Iterate through each row\n",
    "    for i, row in enumerate(matrix):\n",
    "        # Perform modified binary search to find first occurrence of 0\n",
    "        left, right = 0, len(row) - 1\n",
    "        while left <= right:\n",
    "            mid = (left + right) // 2\n",
    "            if row[mid] == 0:\n",
    "                right = mid - 1\n",
    "            else:\n",
    "                left = mid + 1\n",
    "        \n",
    "        # Calculate count of zeros in current row\n",
    "        zeros_count = len(row) - left\n",
    "        \n",
    "        # Update max_zeros_row_index and max_zeros_count if needed\n",
    "        if zeros_count > max_zeros_count:\n",
    "            max_zeros_row_index = i\n",
    "            max_zeros_count = zeros_count\n",
    "    \n",
    "    return max_zeros_row_index\n",
    "\n",
    "# Example usage:\n",
    "matrix = [\n",
    "    [1, 1, 1, 0],\n",
    "    [1, 0, 0, 0],\n",
    "    [1, 1, 0, 0],\n",
    "    [1, 1, 1, 1]\n",
    "]\n",
    "\n",
    "max_zeros_row_index = find_max_zeros_row(matrix)\n",
    "print(\"Row with maximum number of zeros:\", max_zeros_row_index)\n"
   ]
  },
  {
   "cell_type": "code",
   "execution_count": 10,
   "id": "c4e2fead-5201-48e1-b81e-498bb364c32d",
   "metadata": {},
   "outputs": [
    {
     "name": "stdout",
     "output_type": "stream",
     "text": [
      "Sorted array: [0, 0, 0, 0, 0, 1, 1, 1, 1, 1, 2, 2]\n"
     ]
    }
   ],
   "source": [
    "def sort_colors(nums):\n",
    "    low, mid, high = 0, 0, len(nums) - 1\n",
    "    \n",
    "    while mid <= high:\n",
    "        if nums[mid] == 0:\n",
    "            nums[low], nums[mid] = nums[mid], nums[low]\n",
    "            low += 1\n",
    "            mid += 1\n",
    "        elif nums[mid] == 1:\n",
    "            mid += 1\n",
    "        else:\n",
    "            nums[mid], nums[high] = nums[high], nums[mid]\n",
    "            high -= 1\n",
    "    \n",
    "    return nums\n",
    "\n",
    "# Example usage:\n",
    "arr = [0, 1, 1, 0, 1, 2, 1, 2, 0, 0, 0, 1]\n",
    "sorted_arr = sort_colors(arr)\n",
    "print(\"Sorted array:\", sorted_arr)\n"
   ]
  },
  {
   "cell_type": "code",
   "execution_count": null,
   "id": "a6712f84-bea8-4791-bac3-f4f06468bb94",
   "metadata": {},
   "outputs": [],
   "source": []
  }
 ],
 "metadata": {
  "kernelspec": {
   "display_name": "Python 3 (ipykernel)",
   "language": "python",
   "name": "python3"
  },
  "language_info": {
   "codemirror_mode": {
    "name": "ipython",
    "version": 3
   },
   "file_extension": ".py",
   "mimetype": "text/x-python",
   "name": "python",
   "nbconvert_exporter": "python",
   "pygments_lexer": "ipython3",
   "version": "3.11.7"
  }
 },
 "nbformat": 4,
 "nbformat_minor": 5
}
